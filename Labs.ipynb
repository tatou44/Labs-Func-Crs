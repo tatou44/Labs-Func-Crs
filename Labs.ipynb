{
 "cells": [
  {
   "cell_type": "code",
   "execution_count": 5,
   "metadata": {},
   "outputs": [
    {
     "name": "stdout",
     "output_type": "stream",
     "text": [
      "4 6 10\n"
     ]
    }
   ],
   "source": [
    "# Passing arguments to a functions:\n",
    "\n",
    "# LAB 01:\n",
    "\n",
    "# defining a function to get inputs from user:\n",
    "def getinput():\n",
    "    num = int(input())\n",
    "    return num  \n",
    "\n",
    "# defining function to sum the user inputs:\n",
    "def getsum(v1, v2):\n",
    "    total = v1 + v2\n",
    "    return total\n",
    "\n",
    "# defining function to display user inputs and the total of the inputs:\n",
    "def printval(v1, v2, total):\n",
    "    print(v1, v2, total)\n",
    "\n",
    " # defining the main function to call all the precedent functions\n",
    " # getinput(), getsum() and printval() :\n",
    "  \n",
    "def main():\n",
    "      \n",
    "     userval1 = getinput()\n",
    "     userval2 = getinput()\n",
    "     total = getsum(userval1, userval2)\n",
    "     printval(userval1, userval2, total)\n",
    "\n",
    "if __name__ == '__main__':\n",
    "           main()\n",
    "\n"
   ]
  },
  {
   "cell_type": "code",
   "execution_count": 15,
   "metadata": {},
   "outputs": [
    {
     "name": "stdout",
     "output_type": "stream",
     "text": [
      "8407536 47855408\n",
      "8790994265856 8790994265856\n",
      "0 0\n"
     ]
    }
   ],
   "source": [
    "# Making change to parameters:\n",
    "\n",
    "# LAB 02:\n",
    "\n",
    "# defining a function to get user iputs n1 and n1:\n",
    "def getinput(n1, n2):\n",
    "    n1 = input()\n",
    "    n2 = input()\n",
    "    # checking inputs ids of the user inputs n1, n2:\n",
    "    print(id(n1), id(n2))\n",
    "\n",
    "    \n",
    "\n",
    "# defining main function to call the getinput() function:\n",
    "def main():\n",
    "        a = 0 # in this level a and b (0, 0) are the original values\n",
    "        b = 0\n",
    "        getinput(a, b) # the values of a, b still the same no matter the user inputs values changed. \n",
    "\n",
    "        # checking ids in the main function after calling the getinput() function:\n",
    "        print(id(a), id(b))  \n",
    "        print(a, b)\n",
    "\n",
    "if __name__ == '__main__':\n",
    "    main() \n",
    "\n",
    "\n",
    "# the user inputs was 3, and 7 but,\n",
    "# The printing values in the main are 0 0, and\n",
    "# they are not same as the values of the user inputs in the getinput() function.\n",
    "# after checking ids of values in getinput() function , and inside the main() function , we found that ids are diferents,\n",
    "# because integer are not mutable.(call-by-value)              "
   ]
  },
  {
   "cell_type": "code",
   "execution_count": 43,
   "metadata": {},
   "outputs": [
    {
     "name": "stdout",
     "output_type": "stream",
     "text": [
      "10 [20, 30, 15, 5]\n"
     ]
    }
   ],
   "source": [
    "# Making changes to parameters ; LIST:\n",
    "\n",
    "# LAB 03: Making function to find the min number mineven(parameter=list):\n",
    "\n",
    "# definig function to find and remove the mineven from list of numbers:\n",
    "def mineven(numbers):\n",
    "    mineven = None\n",
    "\n",
    "    for i in range(len(numbers)):\n",
    "        if (numbers[i] % 2 == 0): \n",
    "\n",
    "            if (mineven is None) or (numbers[i] < mineven):\n",
    "\n",
    "                mineven = numbers[i]\n",
    "           \n",
    "    numbers.remove(mineven) \n",
    "    return mineven\n",
    "        \n",
    "   \n",
    "\n",
    "# defing the main() function :\n",
    "def main():\n",
    "    list_num = [10, 20, 30, 15, 5]  # we will pass this original list to the function mineven().\n",
    "\n",
    "    result = mineven(list_num)\n",
    "    print(result, list_num)\n",
    "if __name__ == '__main__':\n",
    "    main()\n",
    "\n",
    "# After calling the mineven() and passing the list_num as argument , the result is that the min value was removed from the list ,\n",
    "#  means the list was changed after displaying it in the main(),\n",
    "# because list a re mutable, the changes (removed the min) are affected the original list and\n",
    "#  printed the changes in the main() (call-by-reference).\n",
    "\n"
   ]
  },
  {
   "cell_type": "code",
   "execution_count": 54,
   "metadata": {},
   "outputs": [
    {
     "name": "stdout",
     "output_type": "stream",
     "text": [
      "The minimum value in the list is: 1\n",
      "The maximum value in the list is: 5\n"
     ]
    }
   ],
   "source": [
    "# Returning multiple values:\n",
    "\n",
    "# LAB 04:\n",
    "\n",
    "# defining function minmax() that return min and max of a list:\n",
    "def minmax(lst):  # the parameter numbers is a list 'lst': \n",
    "\n",
    "    # processing:\n",
    "    min = None\n",
    "    max = None\n",
    "    for val in lst:\n",
    "        if min is None or val < min:\n",
    "            min = val\n",
    "\n",
    "        if max is None or val > max:\n",
    "            max = val\n",
    "\n",
    "    return min, max  # returned two value from the parameter numbers (list), min and max (returning multiple values). \n",
    "\n",
    "# defining main() to call minmax() function:\n",
    "def main():  \n",
    "    mylist = [1,2,3,4,5] \n",
    "\n",
    "    # calling the function:\n",
    "    my_min, my_max = minmax(mylist)\n",
    "\n",
    "    # displaying the result:\n",
    "    print (\"The minimum value in the list is: {0}\".format(my_min))\n",
    "    print (\"The maximum value in the list is: {0}\".format(my_max))\n",
    "\n",
    "if __name__ == '__main__':\n",
    "    main()    \n",
    "\n",
    "# multiple values was displayed min and max, after runing the main().\n"
   ]
  },
  {
   "cell_type": "code",
   "execution_count": 83,
   "metadata": {},
   "outputs": [
    {
     "name": "stdout",
     "output_type": "stream",
     "text": [
      "Gender Males:    10\n",
      "Gender Females:    20\n"
     ]
    }
   ],
   "source": [
    "# key words arguments **kwargs:\n",
    "\n",
    "# LAB 05:\n",
    "\n",
    "\"\"\"\n",
    "def printscores(**scores):\n",
    "    for k,v in scores.items():\n",
    "        print (f'Subject {k:>10}: {v:>10}')\n",
    "\n",
    "\n",
    "kwargs = { 'Math': 90, 'English':100, 'Computer': 90}\n",
    "printscores(**kwargs)\n",
    "\"\"\"\n",
    "# making the same code with different kwargs argumnents:\n",
    "def printgenders(**genders):\n",
    "    for k, v in genders.items():\n",
    "        print (f'Gender {k:>5}: {v:>5}')\n",
    "\n",
    "# calling the function printgenders() by passing a dictionary of key and value as arguments:\n",
    "\n",
    "kwargs = {'Males': 10, 'Females': 20}\n",
    "printgenders(**kwargs) # passing the kwargs and calling the function.\n",
    "\n",
    "# the usage of **args is when you have dictionary data type to be passed as argument."
   ]
  },
  {
   "cell_type": "code",
   "execution_count": 68,
   "metadata": {},
   "outputs": [
    {
     "name": "stdout",
     "output_type": "stream",
     "text": [
      "('P', 'y', 't', 'h', 'o', 'n', ' ', 'P', 'r', 'o', 'g', 'r', 'a', 'm', 'm', 'i', 'n', 'g')\n",
      "P\n",
      "y\n",
      "t\n",
      "h\n",
      "o\n",
      "n\n",
      " \n",
      "P\n",
      "r\n",
      "o\n",
      "g\n",
      "r\n",
      "a\n",
      "m\n",
      "m\n",
      "i\n",
      "n\n",
      "g\n",
      "Python Programming\n",
      "P\n",
      "y\n",
      "t\n",
      "h\n",
      "o\n",
      "n\n",
      " \n",
      "P\n",
      "r\n",
      "o\n",
      "g\n",
      "r\n",
      "a\n",
      "m\n",
      "m\n",
      "i\n",
      "n\n",
      "g\n",
      "('Python Programming', 'C++ Programming')\n",
      "Python Programming\n",
      "C++ Programming\n"
     ]
    },
    {
     "ename": "TypeError",
     "evalue": "printfunction2() takes 1 positional argument but 2 were given",
     "output_type": "error",
     "traceback": [
      "\u001b[1;31m---------------------------------------------------------------------------\u001b[0m",
      "\u001b[1;31mTypeError\u001b[0m                                 Traceback (most recent call last)",
      "\u001b[1;32m<ipython-input-68-ba67ad5fa5a8>\u001b[0m in \u001b[0;36m<module>\u001b[1;34m\u001b[0m\n\u001b[0;32m     27\u001b[0m     \u001b[0mprintfunction2\u001b[0m\u001b[1;33m(\u001b[0m\u001b[0mstr\u001b[0m\u001b[1;33m,\u001b[0m \u001b[0mmorestr\u001b[0m\u001b[1;33m)\u001b[0m  \u001b[1;31m# Error , because the function was defined to take one argument only.\u001b[0m\u001b[1;33m\u001b[0m\u001b[1;33m\u001b[0m\u001b[0m\n\u001b[0;32m     28\u001b[0m \u001b[1;32mif\u001b[0m \u001b[0m__name__\u001b[0m \u001b[1;33m==\u001b[0m \u001b[1;34m'__main__'\u001b[0m\u001b[1;33m:\u001b[0m\u001b[1;33m\u001b[0m\u001b[1;33m\u001b[0m\u001b[0m\n\u001b[1;32m---> 29\u001b[1;33m     \u001b[0mmain\u001b[0m\u001b[1;33m(\u001b[0m\u001b[1;33m)\u001b[0m\u001b[1;33m\u001b[0m\u001b[1;33m\u001b[0m\u001b[0m\n\u001b[0m",
      "\u001b[1;32m<ipython-input-68-ba67ad5fa5a8>\u001b[0m in \u001b[0;36mmain\u001b[1;34m()\u001b[0m\n\u001b[0;32m     25\u001b[0m     \u001b[0mprintfunction1\u001b[0m\u001b[1;33m(\u001b[0m\u001b[0mstr\u001b[0m\u001b[1;33m,\u001b[0m \u001b[0mmorestr\u001b[0m\u001b[1;33m)\u001b[0m\u001b[1;33m\u001b[0m\u001b[1;33m\u001b[0m\u001b[0m\n\u001b[0;32m     26\u001b[0m \u001b[1;33m\u001b[0m\u001b[0m\n\u001b[1;32m---> 27\u001b[1;33m     \u001b[0mprintfunction2\u001b[0m\u001b[1;33m(\u001b[0m\u001b[0mstr\u001b[0m\u001b[1;33m,\u001b[0m \u001b[0mmorestr\u001b[0m\u001b[1;33m)\u001b[0m  \u001b[1;31m# Error , because the function was defined to take one argument only.\u001b[0m\u001b[1;33m\u001b[0m\u001b[1;33m\u001b[0m\u001b[0m\n\u001b[0m\u001b[0;32m     28\u001b[0m \u001b[1;32mif\u001b[0m \u001b[0m__name__\u001b[0m \u001b[1;33m==\u001b[0m \u001b[1;34m'__main__'\u001b[0m\u001b[1;33m:\u001b[0m\u001b[1;33m\u001b[0m\u001b[1;33m\u001b[0m\u001b[0m\n\u001b[0;32m     29\u001b[0m     \u001b[0mmain\u001b[0m\u001b[1;33m(\u001b[0m\u001b[1;33m)\u001b[0m\u001b[1;33m\u001b[0m\u001b[1;33m\u001b[0m\u001b[0m\n",
      "\u001b[1;31mTypeError\u001b[0m: printfunction2() takes 1 positional argument but 2 were given"
     ]
    }
   ],
   "source": [
    "# LAB 06 *args:\n",
    "\n",
    "# making function takes a '*str' as parameter:\n",
    "\n",
    "def printfunction1(*str): # this function can take multiple arguments as a tuple format.\n",
    "    print (str)           # The printed values is a tuple format. \n",
    "    for v in str:\n",
    "        print (v)         # printing each value from the tuple.\n",
    "\n",
    "# making function takes a 'str' as parameter:\n",
    "\n",
    "def printfunction2(str): # this function can take only one argument.\n",
    "    print (str)          # printed one value , the whole string.\n",
    "    for v in str:\n",
    "        print (v)        # printing every charctere of the sting.\n",
    "\n",
    "# calling function 1 and 2 from main():\n",
    "\n",
    "def main():\n",
    "\n",
    "    # passing one argument to each function during the call:\n",
    "    str = 'Python Programming'\n",
    "\n",
    "    printfunction1(*str) # can add more arguments .\n",
    "    \n",
    "    printfunction2(str)  # can not accept more than one argument.\n",
    "    \n",
    "    # adding one more argument to each function during the call:\n",
    "    morestr = 'C++ Programming'\n",
    "    \n",
    "    printfunction1(str, morestr) # no error.\n",
    "\n",
    "    printfunction2(str, morestr)  # Error , because the function was defined to take one argument only.\n",
    "if __name__ == '__main__':\n",
    "    main()  \n",
    "\n",
    "# Resume:\n",
    "# defined two different functions with different behavious , one function accept multiple arguments,\n",
    "# an other function accept one argument only.\n",
    "# than called the two function by passing one argument to each, in this case there was no error,\n",
    "# in the case where one more argument is add , error is raised specifically in the function 2 'printfunction2(str, morestr)'\n",
    "# because this function takes one argument only.      "
   ]
  },
  {
   "cell_type": "code",
   "execution_count": 134,
   "metadata": {},
   "outputs": [
    {
     "name": "stdout",
     "output_type": "stream",
     "text": [
      "The min value (firstval): 0   other numbers: 3 2 5 4\n",
      "The min value (firstval): 2   other numbers: 3 5 4\n",
      "The min value (firstval): 3   other numbers: 5 4\n",
      "The min value (firstval): 4   other numbers: 5\n",
      "\n",
      "The final list of numbers is:\n",
      "[0, 2, 3, 4, 5]\n"
     ]
    }
   ],
   "source": [
    "# Lab 7: Arbitrary Arguments *args.\n",
    "\n",
    "# defining function 'findmin(numbers)' to find minimum number between the numbers:\n",
    "def findmin(numbers):\n",
    "\n",
    "    min = numbers[0] # assuming the min is the first element in the list initialy.  \n",
    "    i_min = 0        # and this is the index associated with the first element (min), initialy.\n",
    "\n",
    "    for i in range(1, len(numbers)):  # strating from 1 to exlude the first element.\n",
    "\n",
    "        # processing to find the min in the list of numbers:\n",
    "        if numbers[i] < min:\n",
    "            min = numbers[i]\n",
    "            i_min = i\n",
    "\n",
    "    # swapping the min with the first element to have the min at first position in the list:  \n",
    "    numbers[0], numbers[i_min] = numbers[i_min], numbers[0]\n",
    "   \n",
    "\n",
    "    return numbers  # the list of numbers is returned with the value of min at first position.\n",
    "\n",
    "\n",
    "\n",
    "\n",
    "\n",
    "numbers = [2, 3, 0, 5, 4]  # given list of numbers as argument.\n",
    "\n",
    "others = numbers  # any change to 'others' will affect 'numbers'.\n",
    "\n",
    "n = len(numbers)\n",
    "\n",
    "for i in range(n-1):\n",
    "\n",
    "    findmin(others)            # calling the 'findmin(others)' by passing 'others' argument every each loop.\n",
    "\n",
    "    firstval, *others = others # updating (unpacking) 'firstval' and 'others' on each loop by\n",
    "                               # extracting 'min' from other and\n",
    "                               # assign it to 'firstval' ,assign the remain numbers to 'others'. \n",
    "\n",
    "     \n",
    "\n",
    "    print('The min value (firstval):', firstval,' ', 'other numbers:', *others)\n",
    "\n",
    "    numbers[i] = firstval  # building the list numbers by assigning the 'firstval=min' every loop, to be a sorted list. \n",
    "    \n",
    "    # replacing the last element in the list numbers by the remaining number in\n",
    "    # the 'others', since we stopped at: (n-1) = (len(numbers)-1).\n",
    "    if i == n-2:\n",
    "        numbers[n-1] = others[0]\n",
    "        \n",
    " \n",
    "print()    \n",
    "print('The final list of numbers is:')\n",
    "print(numbers)  # numbers are sorted in oreder (smallest to beggest).      \n",
    "    "
   ]
  },
  {
   "cell_type": "code",
   "execution_count": 137,
   "metadata": {},
   "outputs": [
    {
     "name": "stdout",
     "output_type": "stream",
     "text": [
      "101458240 numbers ID \n",
      "101458240 ID of lst in myfunc() as soon as the function starts\n",
      "[999, 2, 3]\n",
      "101458240 ID of lst in myfunc() after changing value \n",
      "[999, 2, 3]\n",
      "101458240 retlst ID: returned from myfunc\n"
     ]
    }
   ],
   "source": [
    "# Lab 8: Call by reference : checking id values. \n",
    "\n",
    "# Run 1):\n",
    "\n",
    "def myfunc(lst):\n",
    "    print(id(lst), 'ID of lst in myfunc() as soon as the function starts')\n",
    "\n",
    "    lst[0] = 999   # making change to the original list, in this level.\n",
    "\n",
    "    print(numbers)   # checking if the change is applayed.\n",
    "\n",
    "    print(id(lst), 'ID of lst in myfunc() after changing value ')\n",
    "    return lst\n",
    "\n",
    "# call the function:\n",
    "numbers = [1,2,3]    # the original list that will be modified inside myfunc after the call.\n",
    "\n",
    "print(id(numbers), 'numbers ID ') \n",
    "\n",
    "retlst = myfunc(numbers)   # -> Run 1). calling the myfunct by passing the original list.\n",
    "\n",
    "\n",
    "#a, *retlst = myfunc(numbers)\n",
    "\n",
    "\n",
    "#retlst[0] = 999  -> dont need to modifie the list in the caller, its already modified in Myfunc.\n",
    "\n",
    "print(numbers)\n",
    "print(id(retlst), 'retlst ID: returned from myfunc')\n",
    "\n",
    "# Rsume:\n",
    "# inside the function 'lst' is same as 'numbers' by reference, after calling the returned 'retlst' has same reference also. \n",
    "# All IDs of the list are same, bfore calling the function 'myfunc' and after calling , and also for the returned list.\n",
    "# means changes made to 'lst' inside myfunc reflect in 'numbers' as well because they have same reference number,\n",
    "#  and list are mutable \n"
   ]
  },
  {
   "cell_type": "code",
   "execution_count": 140,
   "metadata": {},
   "outputs": [
    {
     "name": "stdout",
     "output_type": "stream",
     "text": [
      "139094528 numbers ID \n",
      "139094528 ID of lst in myfunc() as soon as the function starts\n",
      "[999, 2, 3]\n",
      "139094528 ID of lst in myfunc() after changing value \n",
      "999 [2, 3]\n",
      "142609840\n",
      "[999, 2, 3]\n",
      "139222592 retlst ID: returned from myfunc\n"
     ]
    }
   ],
   "source": [
    "# Lab 8: Call by reference : checking id values. \n",
    "\n",
    "# Run 2):\n",
    "\n",
    "def myfunc(lst):\n",
    "    print(id(lst), 'ID of lst in myfunc() as soon as the function starts')\n",
    "    lst[0] = 999\n",
    "\n",
    "    print(numbers)\n",
    "    print(id(lst), 'ID of lst in myfunc() after changing value ')\n",
    "    return lst\n",
    "\n",
    "# call the function:\n",
    "numbers = [1,2,3]\n",
    "\n",
    "print(id(numbers), 'numbers ID ')\n",
    "\n",
    "#retlst = myfunc(numbers)\n",
    "\n",
    "a, *retlst = myfunc(numbers)      # -> Run 2). unpacking the list , that means we will have \n",
    "                                  # two defferents variables 'a', 'retlst' with deffernet ids.\n",
    "\n",
    "\n",
    "print(a, retlst)\n",
    "\n",
    "\n",
    "print(id(a))\n",
    "\n",
    "\n",
    "#retlst[0] = 999 -> dont need to modifie the list in the caller, its already modified in Myfunc.\n",
    "\n",
    "print(numbers)\n",
    "print(id(retlst), 'retlst ID: returned from myfunc')\n",
    "\n",
    "# Resume:\n",
    "# inside function 'numbers' has same reference as 'lst' , any change in 'lst' affect 'numbers', but\n",
    "#  the reference of the returned 'retlst' after the call is defferent from 'numbers' , because 'retlst = [1, 3]' which is\n",
    "# a part or subset of 'numbers =[999, 2, 3]'.defferent variabalbes means defferent memory address.\n",
    "# \n",
    "# Returning the list 'numbers' is not necessary to see the change \n",
    "# in both cases (modifiying one elemement of the list 'numbers'), except if you want to make forther operations in the returned list.   "
   ]
  },
  {
   "cell_type": "code",
   "execution_count": 154,
   "metadata": {},
   "outputs": [
    {
     "name": "stdout",
     "output_type": "stream",
     "text": [
      "[-1, 0, 1, 1, 2, 5, 7, 8, 12]\n"
     ]
    }
   ],
   "source": [
    "# MORE LABS:\n",
    "# Lab 9 : Function Bubble( ).\n",
    "\n",
    "def bubble(numbers):   # takes numbers as a parameter.\n",
    "\n",
    "    # comparing adjacent values in numbers:\n",
    "\n",
    "    n = len(numbers)   # = 9,  in our case.\n",
    "\n",
    "    for i in range(n):  #  iterate from 0 to (n-1), i = 0 to i = (n-1) = 9-1 = 8.  outer loop.\n",
    "\n",
    "        for j in range(n-1-i):   # inner loop , when i = 0 , this loop runs 8 = (n-1-i = 9-1-0 = 8), times.j = 8.\n",
    "                                 # and when i = (n-1) = 8 last index, (n-1-i = (n-1)-(n-1) = 0), j = 0 -> this loop stop.\n",
    "\n",
    "            if numbers[j] > numbers[j+1]:  # comparing every two adjacent number in the list .\n",
    "\n",
    "               numbers[j], numbers[j+1] = numbers[j+1], numbers[j]  # swapping if left number greater than the right number. \n",
    "               \n",
    "    print(numbers)  # printing the list of numbers with greatest number at last position in the list.       \n",
    "     \n",
    "\n",
    "lst = [2, 5, 12, 7, 1, 0, 8, -1, 1] # creating a list of numbers.\n",
    "\n",
    "bubble(lst)  # call the function bubble()\n",
    "\n",
    "\n",
    "\n",
    "            \n"
   ]
  },
  {
   "cell_type": "code",
   "execution_count": 163,
   "metadata": {},
   "outputs": [
    {
     "name": "stdout",
     "output_type": "stream",
     "text": [
      "[6, 5, 4, 3, 2, 1]\n"
     ]
    }
   ],
   "source": [
    "# Lab 10 : Function foldandswap( ).\n",
    "\n",
    "\n",
    "\n",
    "def foldandswap(numbers):\n",
    "\n",
    "  # mylist = [1, 2, 3, 4, 5, 6].\n",
    "    \n",
    "    n = len(numbers)    # 6 in this case.\n",
    "    # finding the middle 'mid' len of the list numbers:\n",
    "    mid = n // 2    # equal to 3 in this case.\n",
    "\n",
    "    for i in range(mid):  # i=0 to i = 3 in this case.\n",
    "        \n",
    "         numbers[i], numbers[n-i-1] = numbers[n-i-1], numbers[i] # swapping the facing numbers.\n",
    "          \n",
    "    print(numbers) # printing the list with numbers swapped.\n",
    "\n",
    "mylist = [1, 2, 3, 4, 5, 6] # create a list of numbers.\n",
    "\n",
    "foldandswap(mylist) # call the function by passing 'mylist'. \n",
    "\n"
   ]
  },
  {
   "cell_type": "code",
   "execution_count": 171,
   "metadata": {},
   "outputs": [
    {
     "name": "stdout",
     "output_type": "stream",
     "text": [
      "[0, 1, 2, 3, 4, 5, 6, 7, 9]\n"
     ]
    }
   ],
   "source": [
    "# Lab 11. Merge two list.\n",
    "# l1 = [0, 2, 3]\n",
    "# l2 = [1, 4, 5, 6, 9]\n",
    "\n",
    "def merge(numbers1, numbers2):\n",
    "\n",
    "     merged_list = [] # create empty list to receive the two list.\n",
    "\n",
    "     merged_list = numbers1 + numbers2  # concatinate the two list using the operator (+) and\n",
    "                                        # assign the result to 'merged_list'.\n",
    "     \n",
    "     # merged_list = [0, 2, 3, 1, 4, 5, 6, 9] in this level.\n",
    "\n",
    "\n",
    "     # proceding to make the list ordered in ascending areder.\n",
    "     n = len(merged_list)\n",
    "     for i in range(n):\n",
    "\n",
    "        for j in range(n-1-i):\n",
    "\n",
    "          if merged_list[j] > merged_list[j+1]: # check if the current number is greater than the next number.\n",
    "\n",
    "               # if its true , than swap the two numbers.\n",
    "               merged_list[j], merged_list[j+1] = merged_list[j+1], merged_list[j]\n",
    "\n",
    "     return merged_list   # list ordered \n",
    "\n",
    "# creating two list:\n",
    "l1 = [0, 2, 3, 1]\n",
    "l2 = [4, 7, 5, 6, 9]\n",
    "\n",
    "# calling the function merge(), by passing the two list:\n",
    "m_l = merge(l1, l2)  # assign the returned result to 'm_l'.\n",
    "\n",
    "# printing the merged and ordered list:\n",
    "print(m_l)\n",
    "\n",
    "\n",
    "\n"
   ]
  },
  {
   "cell_type": "code",
   "execution_count": 181,
   "metadata": {},
   "outputs": [
    {
     "name": "stdout",
     "output_type": "stream",
     "text": [
      "[2, 0, 3, 4, 5]\n"
     ]
    }
   ],
   "source": [
    "# Lab 12. Split ( ):\n",
    "\n",
    "\n",
    "def splite(numbers):\n",
    "\n",
    "    pivot = numbers[0]  \n",
    "\n",
    "    less_than_p = []    # list to save less numbers than pivote.\n",
    "    greater_than_p = []  # list to save greater numbers than pivote.\n",
    "\n",
    "    for num in numbers:\n",
    "        if num < pivot:  # find the smallest numbers than pivot number\n",
    "            less_than_p.append(num) # append smallest numbers than the pivot number to 'less_than' list.\n",
    "            \n",
    "        if num > pivot: # find the greatest numbers than pivot number\n",
    "           \n",
    "            greater_than_p.append(num) # append greates numbers than the pivot number to 'greater_than' list.\n",
    "\n",
    "    numbers = less_than_p + [pivot] + greater_than_p   # concatinate the parts, and assign it to numbers. \n",
    "                  \n",
    "    return numbers\n",
    "\n",
    "numbers = [3, 2, 0, 4, 5] # create a list \n",
    "x = splite(numbers) # call the function splite.\n",
    "print(x)  # print the result.\n"
   ]
  },
  {
   "cell_type": "code",
   "execution_count": 206,
   "metadata": {},
   "outputs": [
    {
     "name": "stdout",
     "output_type": "stream",
     "text": [
      "2\n",
      "4\n"
     ]
    }
   ],
   "source": [
    "# Lab 13 : Yield : Generates Even Numbers.\n",
    "\n",
    "def findEvenNumber(numbers):\n",
    "\n",
    "    for num in numbers:\n",
    "        if num % 2 == 0:\n",
    "            \n",
    "            yield num      # generating a serie of even numbers and yield it one by one at each call.\n",
    "            \n",
    "    return num           \n",
    "    \n",
    "l = [1, 2, 3, 4, 5] \n",
    "\n",
    "mygen = findEvenNumber(l) # create a generator object 'mygen'\n",
    "\n",
    "for num in mygen:         # extracting the even numbers from 'mygen'\n",
    "    print(num)\n",
    "\n",
    "\n",
    "\n",
    "\n",
    "\n"
   ]
  },
  {
   "cell_type": "code",
   "execution_count": 224,
   "metadata": {},
   "outputs": [
    {
     "name": "stdout",
     "output_type": "stream",
     "text": [
      "0\n",
      "1\n",
      "1\n",
      "2\n",
      "3\n",
      "5\n",
      "8\n",
      "13\n",
      "21\n",
      "34\n"
     ]
    }
   ],
   "source": [
    "# Lab 14 : Yield. Fibonacci numbers.\n",
    "\n",
    "def fibo(N):\n",
    "    a = 0\n",
    "    b = 1\n",
    "\n",
    "    for i in range(N):\n",
    "        \n",
    "        \n",
    "        yield a \n",
    "\n",
    "        a, b = b, a + b   # upadting values of a, and b for the next call     \n",
    "        \n",
    "\n",
    "N = 10\n",
    "gen_fibo = fibo(N)\n",
    "\n",
    "#print(list(gen_fibo))\n",
    "#  \n",
    "for F_num in gen_fibo:\n",
    "    print(F_num)        "
   ]
  },
  {
   "cell_type": "code",
   "execution_count": 214,
   "metadata": {},
   "outputs": [
    {
     "name": "stdout",
     "output_type": "stream",
     "text": [
      "p\n",
      "y\n",
      "t\n",
      "h\n",
      "o\n",
      "n\n",
      " \n",
      "p\n",
      "r\n",
      "o\n",
      "g\n",
      "r\n",
      "a\n",
      "m\n",
      "m\n",
      "i\n",
      "n\n",
      "g\n"
     ]
    }
   ],
   "source": [
    "# Lab 15: yield: Consonant\n",
    "\n",
    "def consonant(string):\n",
    "\n",
    "    for ch in string:\n",
    "        yield ch          # yielding one charactere at each call, one at a time.\n",
    "\n",
    "\n",
    "str = 'python programming'\n",
    "gen_str = consonant(str)    # create string generator object.\n",
    "\n",
    "for ch in gen_str:        # extracting characteres from the generator 'gen_str'      \n",
    "    print(ch)\n"
   ]
  },
  {
   "cell_type": "code",
   "execution_count": 228,
   "metadata": {},
   "outputs": [
    {
     "name": "stdout",
     "output_type": "stream",
     "text": [
      "10\n",
      "5\n"
     ]
    }
   ],
   "source": [
    "# Lab 16: Lambda 1\n",
    "\n",
    "# Greater number between two values:\n",
    "greater = lambda x, y : x if x > y else y \n",
    "\n",
    "# greater is a lambda function takes two arguments x, y , the expression returns the greater number x if\n",
    "#  the condition is true, else it returns y.\n",
    "\n",
    "# example of usage:\n",
    "\n",
    "r = greater(6, 10)\n",
    "print(r)\n",
    "\n",
    "print(greater(5, 1))\n",
    "\n"
   ]
  },
  {
   "cell_type": "code",
   "execution_count": 230,
   "metadata": {},
   "outputs": [
    {
     "name": "stdout",
     "output_type": "stream",
     "text": [
      "[200, 55, 400, 100]\n"
     ]
    }
   ],
   "source": [
    "# lambda list filter:\n",
    "list_filter = lambda mylist : [num for num in mylist if num > 50]\n",
    "\n",
    "any_list = [2, 200, 55, 5, 30, 400, 100]\n",
    "\n",
    "filtered_list = list_filter(any_list) \n",
    "\n",
    "print(filtered_list)"
   ]
  },
  {
   "cell_type": "code",
   "execution_count": 232,
   "metadata": {},
   "outputs": [
    {
     "name": "stdout",
     "output_type": "stream",
     "text": [
      "<generator object <lambda>.<locals>.<genexpr> at 0x00000000087EC660>\n",
      "200\n",
      "55\n",
      "400\n",
      "100\n"
     ]
    }
   ],
   "source": [
    "list_filter = lambda mylist : (num for num in mylist if num > 50)\n",
    "\n",
    "any_list = [2, 200, 55, 5, 30, 400, 100]\n",
    "\n",
    "filtered_list = list_filter(any_list) # generator\n",
    "\n",
    "print(filtered_list)\n",
    "\n",
    "for num in filtered_list:\n",
    "    print(num)"
   ]
  },
  {
   "cell_type": "code",
   "execution_count": 240,
   "metadata": {},
   "outputs": [
    {
     "name": "stdout",
     "output_type": "stream",
     "text": [
      "<function makeLambda.<locals>.<lambda> at 0x000000000883ECA0>\n",
      "[110, 120, 130]\n",
      "<function makeLambda.<locals>.<lambda> at 0x0000000008840310>\n",
      "[60, 70, 80]\n"
     ]
    }
   ],
   "source": [
    "# Lab 17: Lambda 2.  return a lambda function (function that returns a lambda function)\n",
    "\n",
    "# parametere of the returned lambda is a 'list-numbers'\n",
    "\n",
    "def makeLambda(value):  # 'value' is the parameter in the function 'makelambda'\n",
    "    \n",
    "    # defining myaddlambda to add value to each element of the list:\n",
    "    myaddlambda = lambda list_numbers : [num + value for num in list_numbers]\n",
    "\n",
    "    return myaddlambda # returning the defined 'myaddlambda' function \n",
    "\n",
    "\n",
    "\n",
    "# calling the 'makelambda()' function to return 'myaddlambda()' lambda function.  \n",
    "def main():\n",
    "\n",
    "    # create a list of numbers:\n",
    "    list_numbers = [10, 20, 30]  # for the parametere of lambda. \n",
    "    value = 100\n",
    "\n",
    "    # calling the makelambda(value), passing the value = 100.\n",
    "    myaddlambda = makeLambda(value)   # myaddlambda object is returned and assigned to myaddlambda variable. \n",
    "    print(myaddlambda)\n",
    "\n",
    "    new_list_numbers = myaddlambda(list_numbers) \n",
    "\n",
    "    # printing the result which is 'list_numbers' with 'value' add to each number in the list:\n",
    "    print(new_list_numbers)\n",
    "\n",
    "\n",
    "    # for value = -50:\n",
    "     \n",
    "    new_value = -50\n",
    "    \n",
    "\n",
    "    # calling the makelambda(value), passing the value = -50.\n",
    "    myaddlambda1 = makeLambda(new_value)   # myaddlambda object is returned and assigned to myaddlambda variable. \n",
    "    print(myaddlambda1)\n",
    "\n",
    "    new_list_numbers1 = myaddlambda1(new_list_numbers) \n",
    "\n",
    "    # printing the result which is 'list_numbers' with 'value' add to each number in the list:\n",
    "    print(new_list_numbers1)\n",
    "       \n",
    "if __name__ == '__main__':\n",
    "    main()        \n",
    "\n"
   ]
  },
  {
   "cell_type": "code",
   "execution_count": 257,
   "metadata": {},
   "outputs": [
    {
     "name": "stdout",
     "output_type": "stream",
     "text": [
      "list of odd numbers is: [2, 4, 6, 8, 10]\n",
      "the length of list odd numbers is:  5\n",
      "the maximum odd number is: 10\n"
     ]
    }
   ],
   "source": [
    "# Lab 18: Lambda 3.  function name as a parameter.\n",
    "'''colloectOddElm\n",
    "   mylambda1\n",
    "   mylambda2'''\n",
    "\n",
    "def collectOddElm(numbers):\n",
    "\n",
    "    collected_oddlm = [numbers[i] for i in range(1, len(numbers), 2)]\n",
    "\n",
    "    return collected_oddlm\n",
    "\n",
    "# mylambda = lambda numbers, collectOddElm(numbers) : lenf(x) or maxf(x).\n",
    "\n",
    "# definig lambda functions 'mylambda1' to find the length 'len' of the lis numbers,\n",
    "#  and 'mylambda2' to find the maximum number 'max' in the list numbers.\n",
    "\n",
    "mylambda1 = lambda x, f : len(f(x))  # x = numbers (list of numbers)\n",
    "mylambda2 = lambda x, f : max(f(x))  # and f(x) = collectOddElm(numbers) function (function to collect odd numbers)\n",
    "\n",
    "def main():\n",
    "\n",
    "  numbers = [1, 2, 3, 4, 5, 6, 7, 8, 9, 10]\n",
    "  \n",
    "  collected_odd = collectOddElm(numbers)\n",
    "  \n",
    "  print('list of odd numbers is:', collected_odd)\n",
    "  # calling mylambda1:\n",
    "  len_odd = mylambda1(numbers, collectOddElm) # passing x and f.\n",
    "  print('the length of list odd numbers is: ', len_odd)\n",
    "\n",
    "  \n",
    "  \n",
    "  # calling mylambda2:\n",
    "  max_odd = mylambda2(numbers, collectOddElm)\n",
    "  print('the maximum odd number is:', max_odd)\n",
    "\n",
    "\n",
    "if __name__ == '__main__':\n",
    "    main()\n"
   ]
  },
  {
   "cell_type": "code",
   "execution_count": 271,
   "metadata": {},
   "outputs": [
    {
     "name": "stdout",
     "output_type": "stream",
     "text": [
      "32\n"
     ]
    }
   ],
   "source": [
    "# Assignmenet:\n",
    "\n",
    "# Assignment 5-1 : Sum of Product\n",
    "\n",
    "def sumProduct(l1, l2):\n",
    "    \n",
    "    sumP = 0\n",
    "    for i in range(len(l1)):\n",
    "\n",
    "         \n",
    "        sumP = sumP + (l1[i] * l2[i])  \n",
    "\n",
    "    return sumP     \n",
    "    \n",
    "    \n",
    "l1 = [1, 2, 3]\n",
    "l2 = [4, 5, 6]\n",
    "\n",
    "result = sumProduct(l1, l2)\n",
    "print(result)\n"
   ]
  },
  {
   "cell_type": "code",
   "execution_count": 349,
   "metadata": {},
   "outputs": [
    {
     "name": "stdout",
     "output_type": "stream",
     "text": [
      "[11, 13, 17, 19]\n"
     ]
    }
   ],
   "source": [
    "# Assignment 5-2 : Prime numbers list\n",
    "\n",
    "\n",
    "import math   \n",
    "def count_divisors(n):\n",
    "\n",
    "   #numbers = [num for num in range(begin, end + 1)]\n",
    "   #print(numbers)\n",
    "   \n",
    "   \n",
    "        count = 0\n",
    "        sqr_n = int(math.sqrt(n))\n",
    "        \n",
    "        for i in range(1, sqr_n + 1):\n",
    "\n",
    "            if n % i == 0:\n",
    "\n",
    "                count += 1\n",
    "\n",
    "                if i != n // i:\n",
    "\n",
    "                    count += 1\n",
    "        \n",
    "        return count\n",
    "\n",
    "\n",
    "def divisors_in_list(numbers): \n",
    "    # [10, 11, 12, 13, 14, 15, 16, 17, 18, 19, 20]\n",
    "\n",
    "    div_in_lst = [count_divisors(num) for num in numbers]\n",
    "\n",
    "    return div_in_lst\n",
    "\n",
    "\n",
    "\n",
    "def primeNumbers(begin, end):\n",
    "    \n",
    "    # create a list of numbers between begin and  end:\n",
    "    numbers = [num for num in range(begin, end + 1)]\n",
    "    \n",
    "    # calling the divisors_in_list() to find the number of divisors of each elemement in the\n",
    "    # list 'numbers' :\n",
    "\n",
    "    divrs_in_Elist = divisors_in_list(numbers) # list of divisors of each number.\n",
    "    #print(divrs_in_Elist)\n",
    "    \n",
    "    \n",
    "    # extract numbers that have two divisors only from 'numbers' list using\n",
    "    #  divisors list'divrs_in_Elist' , means find prime numbers:\n",
    "\n",
    "    plist = [num for num, count in zip(numbers, divrs_in_Elist) if count == 2]\n",
    "    \n",
    "      \n",
    "    return plist\n",
    "\n",
    "#[10, 11, 12, 13, 14, 15, 16, 17, 18, 19, 20] \n",
    "begin = 10\n",
    "end = 20\n",
    "   \n",
    "print(primeNumbers(begin, end))    \n",
    "        "
   ]
  },
  {
   "cell_type": "code",
   "execution_count": null,
   "metadata": {},
   "outputs": [],
   "source": [
    "# Assignment 5-3 : Shift left / right.\n"
   ]
  }
 ],
 "metadata": {
  "kernelspec": {
   "display_name": "Python 3.8.5 ('base')",
   "language": "python",
   "name": "python3"
  },
  "language_info": {
   "codemirror_mode": {
    "name": "ipython",
    "version": 3
   },
   "file_extension": ".py",
   "mimetype": "text/x-python",
   "name": "python",
   "nbconvert_exporter": "python",
   "pygments_lexer": "ipython3",
   "version": "3.8.5"
  },
  "orig_nbformat": 4,
  "vscode": {
   "interpreter": {
    "hash": "ad2bdc8ecc057115af97d19610ffacc2b4e99fae6737bb82f5d7fb13d2f2c186"
   }
  }
 },
 "nbformat": 4,
 "nbformat_minor": 2
}
